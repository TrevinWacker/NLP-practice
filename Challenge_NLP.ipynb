{
  "nbformat": 4,
  "nbformat_minor": 0,
  "metadata": {
    "colab": {
      "name": "Challenge_NLP",
      "provenance": [],
      "authorship_tag": "ABX9TyNA57lLy9eiCAxjEpVfaxxX",
      "include_colab_link": true
    },
    "kernelspec": {
      "display_name": "Python 3",
      "name": "python3"
    }
  },
  "cells": [
    {
      "cell_type": "markdown",
      "metadata": {
        "id": "view-in-github",
        "colab_type": "text"
      },
      "source": [
        "<a href=\"https://colab.research.google.com/github/TrevinWacker/NLP-practice/blob/main/Challenge_NLP.ipynb\" target=\"_parent\"><img src=\"https://colab.research.google.com/assets/colab-badge.svg\" alt=\"Open In Colab\"/></a>"
      ]
    },
    {
      "cell_type": "markdown",
      "metadata": {
        "id": "LNq6xYKNkkpv"
      },
      "source": [
        "**HuffPo article subject classification**\r\n",
        "\r\n",
        "---\r\n",
        "The goal of this project is to classify different articles by headline in order to quickly sort into general interest categories.  This could be used by HuffPo editors to streamline categorization for their own purposes, and could even suggest unconsidered classification options for an article.\r\n",
        "\r\n",
        "\r\n",
        "I'm looking at large conglomeration of Huffington Post articles published between 2012 and 2018, found on [Kaggle](https://www.kaggle.com/rmisra/news-category-dataset).  I'll be examining the `headline` feature & `short_description` in seperate models and assess whether their are signficant differences in performance.  If we are able to get similarly accurate results using just `headline`, this would be very beneficial towards limiting time and required processing power.  \r\n",
        "\r\n",
        "In the interest of time and my current processing capability, I'll only be looking at articles published in 2018.  Time may be a factor in categorization (more 'queer stories' articles may appear in June vs other months, for example).  I will therefore consider this to be a further factor to enhance this model in the future and will not incorporate it into this project."
      ]
    },
    {
      "cell_type": "code",
      "metadata": {
        "id": "zkLC-YYV6Aox"
      },
      "source": [
        "# Import libraries\r\n",
        "import numpy as np\r\n",
        "import pandas as pd\r\n",
        "import spacy\r\n",
        "import datetime as dt\r\n",
        "import re\r\n",
        "import matplotlib.pyplot as plt\r\n",
        "import seaborn as sns\r\n",
        "\r\n",
        "from gensim.models import Word2Vec\r\n",
        "from collections import Counter\r\n",
        "\r\n",
        "from sklearn.feature_extraction.text import CountVectorizer\r\n",
        "from sklearn.linear_model import LogisticRegression\r\n",
        "from sklearn.ensemble import RandomForestClassifier, GradientBoostingClassifier\r\n",
        "from sklearn.model_selection import train_test_split, GridSearchCV\r\n",
        "from sklearn.svm import SVC"
      ],
      "execution_count": 1,
      "outputs": []
    },
    {
      "cell_type": "code",
      "metadata": {
        "colab": {
          "base_uri": "https://localhost:8080/"
        },
        "id": "INRktPZv-ecO",
        "outputId": "774bb74c-d38a-41d7-e039-da4a7b631b9f"
      },
      "source": [
        "# Gather data\r\n",
        "df = pd.read_json(\"News_Category_Dataset_v2.json\", lines=True)\r\n",
        "huffpo_df = df.copy()\r\n",
        "\r\n",
        "# Remove unincorporated features\r\n",
        "huffpo_df.drop([\"authors\", \"link\"], axis=1, inplace=True)\r\n",
        "\r\n",
        "# Limiting scope to just articles from 2018\r\n",
        "huffpo_df = huffpo_df[huffpo_df['date'].dt.year == 2018]\r\n",
        "print(\"Length of dataframe: {}\".format(huffpo_df.shape[0]))\r\n",
        "\r\n",
        "huffpo_df.info()\r\n",
        "print(\"Length of df: {}\".format(huffpo_df.shape[0]))"
      ],
      "execution_count": 6,
      "outputs": [
        {
          "output_type": "stream",
          "text": [
            "Length of dataframe: 8583\n",
            "<class 'pandas.core.frame.DataFrame'>\n",
            "Int64Index: 8583 entries, 0 to 8582\n",
            "Data columns (total 4 columns):\n",
            " #   Column             Non-Null Count  Dtype         \n",
            "---  ------             --------------  -----         \n",
            " 0   category           8583 non-null   object        \n",
            " 1   headline           8583 non-null   object        \n",
            " 2   short_description  8583 non-null   object        \n",
            " 3   date               8583 non-null   datetime64[ns]\n",
            "dtypes: datetime64[ns](1), object(3)\n",
            "memory usage: 335.3+ KB\n",
            "Length of df: 8583\n"
          ],
          "name": "stdout"
        }
      ]
    },
    {
      "cell_type": "code",
      "metadata": {
        "id": "1xE84po3rDzd"
      },
      "source": [
        "def full_clean(text):\r\n",
        "  # Removes forms of punctuation spaCy doesn't recognize\r\n",
        "    text = re.sub(r'--',' ',text)\r\n",
        "    text = re.sub(\"[\\[].*?[\\]]\", \"\", text)\r\n",
        "    text = re.sub(r\"(\\b|\\s+\\-?|^\\-?)(\\d+|\\d*\\.\\d+)\\b\", \" \", text)\r\n",
        "    text = ' '.join(text.split())\r\n",
        "\r\n",
        "    # Removes emojis\r\n",
        "    regrex_pattern = re.compile(pattern = \"[\"\r\n",
        "        u\"\\U0001F600-\\U0001F64F\"  # emoticons\r\n",
        "        u\"\\U0001F300-\\U0001F5FF\"  # symbols & pictographs\r\n",
        "        u\"\\U0001F680-\\U0001F6FF\"  # transport & map symbols\r\n",
        "        u\"\\U0001F1E0-\\U0001F1FF\"  # flags (iOS)\r\n",
        "                           \"]+\", flags = re.UNICODE)\r\n",
        "    return regrex_pattern.sub(r'',text)"
      ],
      "execution_count": 7,
      "outputs": []
    },
    {
      "cell_type": "code",
      "metadata": {
        "id": "uQVtz8EU2peh"
      },
      "source": [
        "# Load nlp object\r\n",
        "nlp = spacy.load('en', disable=[\"parser\", \"ner\"])\r\n",
        "nlp.create_pipe(\"sentencizer\")\r\n",
        "nlp.max_length = 25000000"
      ],
      "execution_count": 8,
      "outputs": []
    },
    {
      "cell_type": "code",
      "metadata": {
        "colab": {
          "base_uri": "https://localhost:8080/",
          "height": 195
        },
        "id": "lHO4Y-2TnSdU",
        "outputId": "a3baf21c-c049-4178-f56f-bf1165a427a0"
      },
      "source": [
        "#Put nlp features into dataframe\r\n",
        "\r\n",
        "# I was unable to directly input these values into features, so I'm using a workaround by turning these into lists and then assigning them to a feature\r\n",
        "# Creating lists\r\n",
        "clean_headlines = []\r\n",
        "for i in range(huffpo_df.shape[0]):\r\n",
        "  clean_headlines.append(nlp(full_clean(huffpo_df.iloc[i][\"headline\"])))\r\n",
        "\r\n",
        "clean_descriptions = []\r\n",
        "for i in range(huffpo_df.shape[0]):\r\n",
        "  clean_descriptions.append(nlp(full_clean(huffpo_df.iloc[i][\"short_description\"])))\r\n",
        "\r\n",
        "\r\n",
        "# Assign to features\r\n",
        "huffpo_df[\"clean_headline\"] = clean_headlines\r\n",
        "huffpo_df[\"clean_desc\"] = clean_descriptions\r\n",
        "\r\n",
        "# Drop non-cleaned features\r\n",
        "huffpo_df.drop([\"headline\", \"short_description\"], 1, inplace=True)\r\n",
        "\r\n",
        "# I'm also converting the date to just the month for data exploration.\r\n",
        "huffpo_df.date = huffpo_df.date.dt.month\r\n",
        "huffpo_df.rename(columns={\"date\":\"month\"}, inplace=True)\r\n",
        "\r\n",
        "huffpo_df.head()"
      ],
      "execution_count": 9,
      "outputs": [
        {
          "output_type": "execute_result",
          "data": {
            "text/html": [
              "<div>\n",
              "<style scoped>\n",
              "    .dataframe tbody tr th:only-of-type {\n",
              "        vertical-align: middle;\n",
              "    }\n",
              "\n",
              "    .dataframe tbody tr th {\n",
              "        vertical-align: top;\n",
              "    }\n",
              "\n",
              "    .dataframe thead th {\n",
              "        text-align: right;\n",
              "    }\n",
              "</style>\n",
              "<table border=\"1\" class=\"dataframe\">\n",
              "  <thead>\n",
              "    <tr style=\"text-align: right;\">\n",
              "      <th></th>\n",
              "      <th>category</th>\n",
              "      <th>month</th>\n",
              "      <th>clean_headline</th>\n",
              "      <th>clean_desc</th>\n",
              "    </tr>\n",
              "  </thead>\n",
              "  <tbody>\n",
              "    <tr>\n",
              "      <th>0</th>\n",
              "      <td>CRIME</td>\n",
              "      <td>5</td>\n",
              "      <td>(There, Were, Mass, Shootings, In, Texas, Last...</td>\n",
              "      <td>(She, left, her, husband, ., He, killed, their...</td>\n",
              "    </tr>\n",
              "    <tr>\n",
              "      <th>1</th>\n",
              "      <td>ENTERTAINMENT</td>\n",
              "      <td>5</td>\n",
              "      <td>(Will, Smith, Joins, Diplo, And, Nicky, Jam, F...</td>\n",
              "      <td>(Of, course, it, has, a, song, .)</td>\n",
              "    </tr>\n",
              "    <tr>\n",
              "      <th>2</th>\n",
              "      <td>ENTERTAINMENT</td>\n",
              "      <td>5</td>\n",
              "      <td>(Hugh, Grant, Marries, For, The, First, Time, ...</td>\n",
              "      <td>(The, actor, and, his, longtime, girlfriend, A...</td>\n",
              "    </tr>\n",
              "    <tr>\n",
              "      <th>3</th>\n",
              "      <td>ENTERTAINMENT</td>\n",
              "      <td>5</td>\n",
              "      <td>(Jim, Carrey, Blasts, ', Castrato, ', Adam, Sc...</td>\n",
              "      <td>(The, actor, gives, Dems, an, ass, -, kicking,...</td>\n",
              "    </tr>\n",
              "    <tr>\n",
              "      <th>4</th>\n",
              "      <td>ENTERTAINMENT</td>\n",
              "      <td>5</td>\n",
              "      <td>(Julianna, Margulies, Uses, Donald, Trump, Poo...</td>\n",
              "      <td>(The, \", Dietland, \", actress, said, using, th...</td>\n",
              "    </tr>\n",
              "  </tbody>\n",
              "</table>\n",
              "</div>"
            ],
            "text/plain": [
              "        category  ...                                         clean_desc\n",
              "0          CRIME  ...  (She, left, her, husband, ., He, killed, their...\n",
              "1  ENTERTAINMENT  ...                  (Of, course, it, has, a, song, .)\n",
              "2  ENTERTAINMENT  ...  (The, actor, and, his, longtime, girlfriend, A...\n",
              "3  ENTERTAINMENT  ...  (The, actor, gives, Dems, an, ass, -, kicking,...\n",
              "4  ENTERTAINMENT  ...  (The, \", Dietland, \", actress, said, using, th...\n",
              "\n",
              "[5 rows x 4 columns]"
            ]
          },
          "metadata": {
            "tags": []
          },
          "execution_count": 9
        }
      ]
    },
    {
      "cell_type": "code",
      "metadata": {
        "colab": {
          "base_uri": "https://localhost:8080/",
          "height": 195
        },
        "id": "4wC-wFLSX26l",
        "outputId": "e4813d0a-b912-4b95-d1e4-b5cce7483e20"
      },
      "source": [
        "# Get rid of stop words and punctuation and lemmatize the tokens\r\n",
        "for i, word in enumerate(huffpo_df[\"clean_headline\"]):\r\n",
        "    huffpo_df.loc[i, \"clean_headline\"] = \" \".join(\r\n",
        "        [token.lemma_ for token in word if not token.is_punct and not token.is_stop])\r\n",
        "    \r\n",
        "for i, word in enumerate(huffpo_df[\"clean_desc\"]):\r\n",
        "    huffpo_df.loc[i, \"clean_desc\"] = \" \".join(\r\n",
        "        [token.lemma_ for token in word if not token.is_punct and not token.is_stop])\r\n",
        "  \r\n",
        "huffpo_df.head()"
      ],
      "execution_count": 10,
      "outputs": [
        {
          "output_type": "execute_result",
          "data": {
            "text/html": [
              "<div>\n",
              "<style scoped>\n",
              "    .dataframe tbody tr th:only-of-type {\n",
              "        vertical-align: middle;\n",
              "    }\n",
              "\n",
              "    .dataframe tbody tr th {\n",
              "        vertical-align: top;\n",
              "    }\n",
              "\n",
              "    .dataframe thead th {\n",
              "        text-align: right;\n",
              "    }\n",
              "</style>\n",
              "<table border=\"1\" class=\"dataframe\">\n",
              "  <thead>\n",
              "    <tr style=\"text-align: right;\">\n",
              "      <th></th>\n",
              "      <th>category</th>\n",
              "      <th>month</th>\n",
              "      <th>clean_headline</th>\n",
              "      <th>clean_desc</th>\n",
              "    </tr>\n",
              "  </thead>\n",
              "  <tbody>\n",
              "    <tr>\n",
              "      <th>0</th>\n",
              "      <td>CRIME</td>\n",
              "      <td>5</td>\n",
              "      <td>Mass shooting Texas Week tv</td>\n",
              "      <td>leave husband kill child day America</td>\n",
              "    </tr>\n",
              "    <tr>\n",
              "      <th>1</th>\n",
              "      <td>ENTERTAINMENT</td>\n",
              "      <td>5</td>\n",
              "      <td>Smith Joins Diplo Nicky Jam World Cup official...</td>\n",
              "      <td>course song</td>\n",
              "    </tr>\n",
              "    <tr>\n",
              "      <th>2</th>\n",
              "      <td>ENTERTAINMENT</td>\n",
              "      <td>5</td>\n",
              "      <td>Hugh Grant marrie Time Age</td>\n",
              "      <td>actor longtime girlfriend Anna Eberstein tie k...</td>\n",
              "    </tr>\n",
              "    <tr>\n",
              "      <th>3</th>\n",
              "      <td>ENTERTAINMENT</td>\n",
              "      <td>5</td>\n",
              "      <td>Jim Carrey Blasts Castrato Adam Schiff Democra...</td>\n",
              "      <td>actor give Dems ass kick fight hard Donald Trump</td>\n",
              "    </tr>\n",
              "    <tr>\n",
              "      <th>4</th>\n",
              "      <td>ENTERTAINMENT</td>\n",
              "      <td>5</td>\n",
              "      <td>Julianna Margulies use Donald Trump Poop bag p...</td>\n",
              "      <td>Dietland actress say bag cathartic therapeutic...</td>\n",
              "    </tr>\n",
              "  </tbody>\n",
              "</table>\n",
              "</div>"
            ],
            "text/plain": [
              "        category  ...                                         clean_desc\n",
              "0          CRIME  ...               leave husband kill child day America\n",
              "1  ENTERTAINMENT  ...                                        course song\n",
              "2  ENTERTAINMENT  ...  actor longtime girlfriend Anna Eberstein tie k...\n",
              "3  ENTERTAINMENT  ...   actor give Dems ass kick fight hard Donald Trump\n",
              "4  ENTERTAINMENT  ...  Dietland actress say bag cathartic therapeutic...\n",
              "\n",
              "[5 rows x 4 columns]"
            ]
          },
          "metadata": {
            "tags": []
          },
          "execution_count": 10
        }
      ]
    },
    {
      "cell_type": "markdown",
      "metadata": {
        "id": "6oxAMWZrZK7d"
      },
      "source": [
        "---\r\n",
        "\r\n",
        "**Data Exploration**\r\n",
        "\r\n",
        "---"
      ]
    },
    {
      "cell_type": "code",
      "metadata": {
        "colab": {
          "base_uri": "https://localhost:8080/",
          "height": 454
        },
        "id": "G-KQyWSJ0hGd",
        "outputId": "88944f9b-5311-4a0f-96a4-e0a7f0c6226c"
      },
      "source": [
        "# Since we're eliminating articles from 2012-2017, let's see what differences between all years and articles just in 2018\r\n",
        "plt.figure(figsize=(30,8))\r\n",
        "\r\n",
        "plt.subplot(1,2,1)\r\n",
        "plot1 = sns.countplot(data=df, x=\"category\")\r\n",
        "plot1.set_xticklabels(plot1.get_xticklabels(),rotation=35)\r\n",
        "plot1.set_title(\"2012-2018 Category Distributions\")\r\n",
        "\r\n",
        "plt.subplot(1,2,2)\r\n",
        "plot2 = sns.countplot(data=huffpo_df, x=\"category\")\r\n",
        "plot2.set_xticklabels(plot2.get_xticklabels(),rotation=35)\r\n",
        "plot2.set_title(\"2018 Category Distributions\")\r\n",
        "\r\n",
        "huffpo_df.head();"
      ],
      "execution_count": 208,
      "outputs": [
        {
          "output_type": "display_data",
          "data": {
            "image/png": "[encoded data removed]",
            "text/plain": [
              "<Figure size 2160x576 with 2 Axes>"
            ]
          },
          "metadata": {
            "tags": [],
            "needs_background": "light"
          }
        }
      ]
    },
    {
      "cell_type": "markdown",
      "metadata": {
        "id": "hvtZyKU16A4i"
      },
      "source": [
        "It looks like some categories were condensced or eliminated from sometime before 2018 to 2018.  This is likely due to restructuring within the media to change categories, emphasizing the need for continued up-to-date data for this classification model.  It also means any insights from this project aren't necessarily going to be relevant in the future if there's another change.\r\n",
        "\r\n",
        "Overall distribution wise it looks like there are overall similar trends with the categories we are able to compare."
      ]
    },
    {
      "cell_type": "code",
      "metadata": {
        "colab": {
          "base_uri": "https://localhost:8080/"
        },
        "id": "Ca-ImhPFgO3b",
        "outputId": "f5aaa49c-cf10-462d-e330-8e11d1efc023"
      },
      "source": [
        "# Checking how many months are covered in 2018\r\n",
        "huffpo_df.month.unique()"
      ],
      "execution_count": 209,
      "outputs": [
        {
          "output_type": "execute_result",
          "data": {
            "text/plain": [
              "array([5, 4, 3, 2, 1])"
            ]
          },
          "metadata": {
            "tags": []
          },
          "execution_count": 209
        }
      ]
    },
    {
      "cell_type": "markdown",
      "metadata": {
        "id": "W8SPxG-BgWQO"
      },
      "source": [
        "We only have Jan-May covered here."
      ]
    },
    {
      "cell_type": "code",
      "metadata": {
        "colab": {
          "base_uri": "https://localhost:8080/",
          "height": 743
        },
        "id": "M7NycBBSZSBa",
        "outputId": "de5cd871-c04e-46d7-cd9e-9e25c00d2819"
      },
      "source": [
        "# Hueing by month\r\n",
        "plt.figure(figsize=(50,25))\r\n",
        "\r\n",
        "huffpo_df.replace([1,2,3,4,5], [\"January\", \"Febuary\", \"March\", \"April\", \"May\"], inplace=True)\r\n",
        "\r\n",
        "i=1\r\n",
        "for month in [\"January\", \"Febuary\", \"March\", \"April\", \"May\"]: # Inputting list so charts appear in sequential order\r\n",
        "\r\n",
        "  month_df = huffpo_df[huffpo_df[\"month\"] == month]\r\n",
        "\r\n",
        "  plt.subplot(2,3,i)\r\n",
        "  ax=sns.countplot(data=month_df, x=\"category\", order=huffpo_df[\"category\"].unique())\r\n",
        "  ax.set_xticklabels(ax.get_xticklabels(),rotation=35)\r\n",
        "  ax.set_title(\"{} Category Distributions (Length {} articles)\".format(month,month_df.shape[0]), fontdict={'fontsize':20})\r\n",
        "\r\n",
        "  i+=1\r\n",
        "\r\n",
        "#NOTE: The categories are centered immediately below their respective tick"
      ],
      "execution_count": 7,
      "outputs": [
        {
          "output_type": "display_data",
          "data": {
            "image/png": "[encoded data removed]",
            "text/plain": [
              "<Figure size 3600x1800 with 5 Axes>"
            ]
          },
          "metadata": {
            "tags": [],
            "needs_background": "light"
          }
        }
      ]
    },
    {
      "cell_type": "markdown",
      "metadata": {
        "id": "2i5CTjwChNKQ"
      },
      "source": [
        "There are only 5 months represented here; therefore, this model may show poorer performance when classifying any prior or subsequent years for articles in the unrepresented months.  \r\n",
        "\r\n",
        "Politics and entertainment dominate coverage in all months, though by different amounts.  However, there do seem to be some different trends across different months.  Some stray observations:\r\n",
        "\r\n",
        "\r\n",
        "*   There's a slight increase in comedy articles during April (April Fool's Day) and a large increase in sports articles in Febuary (Superbowl and leadup to March Madness) but there doesn't seem to be an increase in Black Voices articles in Febuary (Black History Month)\r\n",
        "*   There are NO college related articles.  This may be a discontinued category from previous years\r\n",
        "*   After January, there are few to no articles involving more \"lifestyle\" focused articles (parents, green, healthy living), along with a signficant decrease in Latino Voices."
      ]
    },
    {
      "cell_type": "markdown",
      "metadata": {
        "id": "ftM1e3xUnkB0"
      },
      "source": [
        "All of the above suggests that making seperate models for each month may increase classification accuracy."
      ]
    },
    {
      "cell_type": "code",
      "metadata": {
        "colab": {
          "base_uri": "https://localhost:8080/"
        },
        "id": "UvrLhhawuErq",
        "outputId": "7a5c0cb2-0f39-4f91-a704-43d9e7851c9b"
      },
      "source": [
        "# Quick look at any common headlines\r\n",
        "headlines = Counter(huffpo_df[\"clean_headline\"].values)\r\n",
        "print(\"Top 10 Most popular headlines (lemmatized):\")\r\n",
        "print(\"------------------\")\r\n",
        "headlines.most_common(10)"
      ],
      "execution_count": 211,
      "outputs": [
        {
          "output_type": "stream",
          "text": [
            "Top 10 Most popular headlines (lemmatized):\n",
            "------------------\n"
          ],
          "name": "stdout"
        },
        {
          "output_type": "execute_result",
          "data": {
            "text/plain": [
              "[('funniest Tweets woman week', 19),\n",
              " ('watch Amazon Prime New week', 5),\n",
              " ('watch Hulu New week', 5),\n",
              " ('movie come Netflix week', 4),\n",
              " ('Good Movie Netflix add week', 3),\n",
              " ('funniest Tweets parent week', 3),\n",
              " ('year month', 2),\n",
              " ('rest world show March life', 2),\n",
              " ('dead hostage Standoff end California Veterans home', 2),\n",
              " ('Florida Lawmaker School Shooting Survivors adult law', 2)]"
            ]
          },
          "metadata": {
            "tags": []
          },
          "execution_count": 211
        }
      ]
    },
    {
      "cell_type": "code",
      "metadata": {
        "colab": {
          "base_uri": "https://localhost:8080/",
          "height": 1000
        },
        "id": "agcNd4VIxP75",
        "outputId": "98bad3ef-94fb-44d2-b8cb-8d5e1e62073c"
      },
      "source": [
        "#These are the only repeat headlines.  Do they happen across categories?\r\n",
        "\r\n",
        "\r\n",
        "top_headlines = []\r\n",
        "for i in range(10):\r\n",
        "  top_headlines.append(headlines.most_common(10)[i][0])\r\n",
        "\r\n",
        "headline_df = huffpo_df[huffpo_df[\"clean_headline\"].isin(top_headlines)]\r\n",
        "\r\n",
        "#Just checking Dataframe\r\n",
        "headline_df"
      ],
      "execution_count": 212,
      "outputs": [
        {
          "output_type": "execute_result",
          "data": {
            "text/html": [
              "<div>\n",
              "<style scoped>\n",
              "    .dataframe tbody tr th:only-of-type {\n",
              "        vertical-align: middle;\n",
              "    }\n",
              "\n",
              "    .dataframe tbody tr th {\n",
              "        vertical-align: top;\n",
              "    }\n",
              "\n",
              "    .dataframe thead th {\n",
              "        text-align: right;\n",
              "    }\n",
              "</style>\n",
              "<table border=\"1\" class=\"dataframe\">\n",
              "  <thead>\n",
              "    <tr style=\"text-align: right;\">\n",
              "      <th></th>\n",
              "      <th>category</th>\n",
              "      <th>month</th>\n",
              "      <th>clean_headline</th>\n",
              "      <th>clean_desc</th>\n",
              "    </tr>\n",
              "  </thead>\n",
              "  <tbody>\n",
              "    <tr>\n",
              "      <th>7</th>\n",
              "      <td>ENTERTAINMENT</td>\n",
              "      <td>May</td>\n",
              "      <td>watch Amazon Prime New week</td>\n",
              "      <td>great mini series join week</td>\n",
              "    </tr>\n",
              "    <tr>\n",
              "      <th>9</th>\n",
              "      <td>ENTERTAINMENT</td>\n",
              "      <td>May</td>\n",
              "      <td>watch Hulu New week</td>\n",
              "      <td>get recent Academy Award win movie</td>\n",
              "    </tr>\n",
              "    <tr>\n",
              "      <th>68</th>\n",
              "      <td>WOMEN</td>\n",
              "      <td>May</td>\n",
              "      <td>funniest Tweets woman week</td>\n",
              "      <td>welcome adulthood favorite spatula</td>\n",
              "    </tr>\n",
              "    <tr>\n",
              "      <th>295</th>\n",
              "      <td>ENTERTAINMENT</td>\n",
              "      <td>May</td>\n",
              "      <td>movie come Netflix week</td>\n",
              "      <td>option week include new Gillian Jacobs movie</td>\n",
              "    </tr>\n",
              "    <tr>\n",
              "      <th>352</th>\n",
              "      <td>ENTERTAINMENT</td>\n",
              "      <td>May</td>\n",
              "      <td>watch Amazon Prime New week</td>\n",
              "      <td>new Natalie Dormer</td>\n",
              "    </tr>\n",
              "    <tr>\n",
              "      <th>366</th>\n",
              "      <td>ENTERTAINMENT</td>\n",
              "      <td>May</td>\n",
              "      <td>watch Hulu New week</td>\n",
              "      <td>review documentary bourbon</td>\n",
              "    </tr>\n",
              "    <tr>\n",
              "      <th>429</th>\n",
              "      <td>WOMEN</td>\n",
              "      <td>May</td>\n",
              "      <td>funniest Tweets woman week</td>\n",
              "      <td>coffee mug lot heavy lifting come personality ...</td>\n",
              "    </tr>\n",
              "    <tr>\n",
              "      <th>629</th>\n",
              "      <td>ENTERTAINMENT</td>\n",
              "      <td>May</td>\n",
              "      <td>movie come Netflix week</td>\n",
              "      <td>Surprise Netflix add pretty good sci fi movie</td>\n",
              "    </tr>\n",
              "    <tr>\n",
              "      <th>698</th>\n",
              "      <td>ENTERTAINMENT</td>\n",
              "      <td>May</td>\n",
              "      <td>watch Hulu New week</td>\n",
              "      <td>movie worth watch lot time live</td>\n",
              "    </tr>\n",
              "    <tr>\n",
              "      <th>699</th>\n",
              "      <td>ENTERTAINMENT</td>\n",
              "      <td>May</td>\n",
              "      <td>watch Amazon Prime New week</td>\n",
              "      <td>movie worth see star Salma Hayek</td>\n",
              "    </tr>\n",
              "    <tr>\n",
              "      <th>786</th>\n",
              "      <td>WOMEN</td>\n",
              "      <td>May</td>\n",
              "      <td>funniest Tweets woman week</td>\n",
              "      <td>scale Kanye Donald Glover feel today</td>\n",
              "    </tr>\n",
              "    <tr>\n",
              "      <th>1011</th>\n",
              "      <td>ENTERTAINMENT</td>\n",
              "      <td>May</td>\n",
              "      <td>movie come Netflix week</td>\n",
              "      <td>low budget horror flick</td>\n",
              "    </tr>\n",
              "    <tr>\n",
              "      <th>1082</th>\n",
              "      <td>ENTERTAINMENT</td>\n",
              "      <td>May</td>\n",
              "      <td>watch Hulu New week</td>\n",
              "      <td>addition streaming service worth watch</td>\n",
              "    </tr>\n",
              "    <tr>\n",
              "      <th>1083</th>\n",
              "      <td>ENTERTAINMENT</td>\n",
              "      <td>May</td>\n",
              "      <td>watch Amazon Prime New week</td>\n",
              "      <td>show movie join Amazon</td>\n",
              "    </tr>\n",
              "    <tr>\n",
              "      <th>1171</th>\n",
              "      <td>WOMEN</td>\n",
              "      <td>May</td>\n",
              "      <td>funniest Tweets woman week</td>\n",
              "      <td>stress summer happy 1st</td>\n",
              "    </tr>\n",
              "    <tr>\n",
              "      <th>1394</th>\n",
              "      <td>POLITICS</td>\n",
              "      <td>April</td>\n",
              "      <td>year month</td>\n",
              "      <td>lot news April forget</td>\n",
              "    </tr>\n",
              "    <tr>\n",
              "      <th>1404</th>\n",
              "      <td>ENTERTAINMENT</td>\n",
              "      <td>April</td>\n",
              "      <td>movie come Netflix week</td>\n",
              "      <td>finally week Netflix debut good sci fi thriller</td>\n",
              "    </tr>\n",
              "    <tr>\n",
              "      <th>1518</th>\n",
              "      <td>ENTERTAINMENT</td>\n",
              "      <td>April</td>\n",
              "      <td>watch Hulu New week</td>\n",
              "      <td>probably guess new recommend week</td>\n",
              "    </tr>\n",
              "    <tr>\n",
              "      <th>1519</th>\n",
              "      <td>ENTERTAINMENT</td>\n",
              "      <td>April</td>\n",
              "      <td>watch Amazon Prime New week</td>\n",
              "      <td>pretty good check</td>\n",
              "    </tr>\n",
              "    <tr>\n",
              "      <th>1803</th>\n",
              "      <td>ENTERTAINMENT</td>\n",
              "      <td>April</td>\n",
              "      <td>Good Movie Netflix add week</td>\n",
              "      <td>british biopic couple stellar acting performance</td>\n",
              "    </tr>\n",
              "    <tr>\n",
              "      <th>1942</th>\n",
              "      <td>WOMEN</td>\n",
              "      <td>April</td>\n",
              "      <td>funniest Tweets woman week</td>\n",
              "      <td>running shoe run cake gettin shoe</td>\n",
              "    </tr>\n",
              "    <tr>\n",
              "      <th>2164</th>\n",
              "      <td>ENTERTAINMENT</td>\n",
              "      <td>April</td>\n",
              "      <td>Good Movie Netflix add week</td>\n",
              "      <td>film explore challenge try heal fractured fami...</td>\n",
              "    </tr>\n",
              "    <tr>\n",
              "      <th>2288</th>\n",
              "      <td>WOMEN</td>\n",
              "      <td>April</td>\n",
              "      <td>funniest Tweets woman week</td>\n",
              "      <td>lieu coffee energize have heated imaginary deb...</td>\n",
              "    </tr>\n",
              "    <tr>\n",
              "      <th>2543</th>\n",
              "      <td>ENTERTAINMENT</td>\n",
              "      <td>April</td>\n",
              "      <td>Good Movie Netflix add week</td>\n",
              "      <td>new movie worth check Netflix right</td>\n",
              "    </tr>\n",
              "    <tr>\n",
              "      <th>2700</th>\n",
              "      <td>WOMEN</td>\n",
              "      <td>April</td>\n",
              "      <td>funniest Tweets woman week</td>\n",
              "      <td>die live absolutely drown email</td>\n",
              "    </tr>\n",
              "    <tr>\n",
              "      <th>2991</th>\n",
              "      <td>POLITICS</td>\n",
              "      <td>March</td>\n",
              "      <td>year month</td>\n",
              "      <td>thing happen March</td>\n",
              "    </tr>\n",
              "    <tr>\n",
              "      <th>3073</th>\n",
              "      <td>WOMEN</td>\n",
              "      <td>March</td>\n",
              "      <td>funniest Tweets woman week</td>\n",
              "      <td>deodorant time day</td>\n",
              "    </tr>\n",
              "    <tr>\n",
              "      <th>3345</th>\n",
              "      <td>WORLD NEWS</td>\n",
              "      <td>March</td>\n",
              "      <td>rest world show March life</td>\n",
              "      <td>protester globe want U.S. lawmaker know watch</td>\n",
              "    </tr>\n",
              "    <tr>\n",
              "      <th>3346</th>\n",
              "      <td>WORLD NEWS</td>\n",
              "      <td>March</td>\n",
              "      <td>rest world show March life</td>\n",
              "      <td>protester globe want U.S. lawmaker know watch</td>\n",
              "    </tr>\n",
              "    <tr>\n",
              "      <th>3425</th>\n",
              "      <td>WOMEN</td>\n",
              "      <td>March</td>\n",
              "      <td>funniest Tweets woman week</td>\n",
              "      <td>avoid taxis man eat want pause Toto Africa</td>\n",
              "    </tr>\n",
              "    <tr>\n",
              "      <th>3848</th>\n",
              "      <td>WOMEN</td>\n",
              "      <td>March</td>\n",
              "      <td>funniest Tweets woman week</td>\n",
              "      <td>work award</td>\n",
              "    </tr>\n",
              "    <tr>\n",
              "      <th>4179</th>\n",
              "      <td>CRIME</td>\n",
              "      <td>March</td>\n",
              "      <td>dead hostage Standoff end California Veterans ...</td>\n",
              "      <td>female employee gunman find dead daylong siege</td>\n",
              "    </tr>\n",
              "    <tr>\n",
              "      <th>4256</th>\n",
              "      <td>CRIME</td>\n",
              "      <td>March</td>\n",
              "      <td>dead hostage Standoff end California Veterans ...</td>\n",
              "      <td>female employee gunman find dead daylong siege</td>\n",
              "    </tr>\n",
              "    <tr>\n",
              "      <th>4260</th>\n",
              "      <td>WOMEN</td>\n",
              "      <td>March</td>\n",
              "      <td>funniest Tweets woman week</td>\n",
              "      <td>use bitcoin Sam Nunberg joke</td>\n",
              "    </tr>\n",
              "    <tr>\n",
              "      <th>4298</th>\n",
              "      <td>POLITICS</td>\n",
              "      <td>March</td>\n",
              "      <td>Florida Lawmaker School Shooting Survivors adu...</td>\n",
              "      <td>allow child tell pass law say homework ask sta...</td>\n",
              "    </tr>\n",
              "    <tr>\n",
              "      <th>4354</th>\n",
              "      <td>POLITICS</td>\n",
              "      <td>March</td>\n",
              "      <td>Florida Lawmaker School Shooting Survivors adu...</td>\n",
              "      <td>allow child tell pass law say homework ask sta...</td>\n",
              "    </tr>\n",
              "    <tr>\n",
              "      <th>4696</th>\n",
              "      <td>WOMEN</td>\n",
              "      <td>March</td>\n",
              "      <td>funniest Tweets woman week</td>\n",
              "      <td>read comment great tattoo</td>\n",
              "    </tr>\n",
              "    <tr>\n",
              "      <th>5531</th>\n",
              "      <td>WOMEN</td>\n",
              "      <td>Febuary</td>\n",
              "      <td>funniest Tweets woman week</td>\n",
              "      <td>Olympics friend Shades trilogy provide great i...</td>\n",
              "    </tr>\n",
              "    <tr>\n",
              "      <th>5960</th>\n",
              "      <td>WOMEN</td>\n",
              "      <td>Febuary</td>\n",
              "      <td>funniest Tweets woman week</td>\n",
              "      <td>lady Doritos takedown</td>\n",
              "    </tr>\n",
              "    <tr>\n",
              "      <th>6405</th>\n",
              "      <td>WOMEN</td>\n",
              "      <td>Febuary</td>\n",
              "      <td>funniest Tweets woman week</td>\n",
              "      <td>capable remember people name people dog follow...</td>\n",
              "    </tr>\n",
              "    <tr>\n",
              "      <th>6841</th>\n",
              "      <td>WOMEN</td>\n",
              "      <td>January</td>\n",
              "      <td>funniest Tweets woman week</td>\n",
              "      <td>give carbs forget deodorant take introvert new...</td>\n",
              "    </tr>\n",
              "    <tr>\n",
              "      <th>7297</th>\n",
              "      <td>WOMEN</td>\n",
              "      <td>January</td>\n",
              "      <td>funniest Tweets woman week</td>\n",
              "      <td>take bra skittle fall remember time eat skittle</td>\n",
              "    </tr>\n",
              "    <tr>\n",
              "      <th>7320</th>\n",
              "      <td>PARENTS</td>\n",
              "      <td>January</td>\n",
              "      <td>funniest Tweets parent week</td>\n",
              "      <td>buy bulk avoid Chuck E. Cheese</td>\n",
              "    </tr>\n",
              "    <tr>\n",
              "      <th>7748</th>\n",
              "      <td>PARENTS</td>\n",
              "      <td>January</td>\n",
              "      <td>funniest Tweets parent week</td>\n",
              "      <td>swear jar bomb cyclone</td>\n",
              "    </tr>\n",
              "    <tr>\n",
              "      <th>7773</th>\n",
              "      <td>WOMEN</td>\n",
              "      <td>January</td>\n",
              "      <td>funniest Tweets woman week</td>\n",
              "      <td>get extra minute resistance training try sport...</td>\n",
              "    </tr>\n",
              "    <tr>\n",
              "      <th>8270</th>\n",
              "      <td>WOMEN</td>\n",
              "      <td>January</td>\n",
              "      <td>funniest Tweets woman week</td>\n",
              "      <td>welcome</td>\n",
              "    </tr>\n",
              "    <tr>\n",
              "      <th>8271</th>\n",
              "      <td>PARENTS</td>\n",
              "      <td>January</td>\n",
              "      <td>funniest Tweets parent week</td>\n",
              "      <td>snow day</td>\n",
              "    </tr>\n",
              "  </tbody>\n",
              "</table>\n",
              "</div>"
            ],
            "text/plain": [
              "           category  ...                                         clean_desc\n",
              "7     ENTERTAINMENT  ...                        great mini series join week\n",
              "9     ENTERTAINMENT  ...                 get recent Academy Award win movie\n",
              "68            WOMEN  ...                 welcome adulthood favorite spatula\n",
              "295   ENTERTAINMENT  ...       option week include new Gillian Jacobs movie\n",
              "352   ENTERTAINMENT  ...                                 new Natalie Dormer\n",
              "366   ENTERTAINMENT  ...                         review documentary bourbon\n",
              "429           WOMEN  ...  coffee mug lot heavy lifting come personality ...\n",
              "629   ENTERTAINMENT  ...      Surprise Netflix add pretty good sci fi movie\n",
              "698   ENTERTAINMENT  ...                    movie worth watch lot time live\n",
              "699   ENTERTAINMENT  ...                   movie worth see star Salma Hayek\n",
              "786           WOMEN  ...               scale Kanye Donald Glover feel today\n",
              "1011  ENTERTAINMENT  ...                            low budget horror flick\n",
              "1082  ENTERTAINMENT  ...             addition streaming service worth watch\n",
              "1083  ENTERTAINMENT  ...                             show movie join Amazon\n",
              "1171          WOMEN  ...                            stress summer happy 1st\n",
              "1394       POLITICS  ...                              lot news April forget\n",
              "1404  ENTERTAINMENT  ...    finally week Netflix debut good sci fi thriller\n",
              "1518  ENTERTAINMENT  ...                  probably guess new recommend week\n",
              "1519  ENTERTAINMENT  ...                                  pretty good check\n",
              "1803  ENTERTAINMENT  ...   british biopic couple stellar acting performance\n",
              "1942          WOMEN  ...                  running shoe run cake gettin shoe\n",
              "2164  ENTERTAINMENT  ...  film explore challenge try heal fractured fami...\n",
              "2288          WOMEN  ...  lieu coffee energize have heated imaginary deb...\n",
              "2543  ENTERTAINMENT  ...                new movie worth check Netflix right\n",
              "2700          WOMEN  ...                    die live absolutely drown email\n",
              "2991       POLITICS  ...                                 thing happen March\n",
              "3073          WOMEN  ...                                 deodorant time day\n",
              "3345     WORLD NEWS  ...      protester globe want U.S. lawmaker know watch\n",
              "3346     WORLD NEWS  ...      protester globe want U.S. lawmaker know watch\n",
              "3425          WOMEN  ...         avoid taxis man eat want pause Toto Africa\n",
              "3848          WOMEN  ...                                         work award\n",
              "4179          CRIME  ...     female employee gunman find dead daylong siege\n",
              "4256          CRIME  ...     female employee gunman find dead daylong siege\n",
              "4260          WOMEN  ...                       use bitcoin Sam Nunberg joke\n",
              "4298       POLITICS  ...  allow child tell pass law say homework ask sta...\n",
              "4354       POLITICS  ...  allow child tell pass law say homework ask sta...\n",
              "4696          WOMEN  ...                          read comment great tattoo\n",
              "5531          WOMEN  ...  Olympics friend Shades trilogy provide great i...\n",
              "5960          WOMEN  ...                              lady Doritos takedown\n",
              "6405          WOMEN  ...  capable remember people name people dog follow...\n",
              "6841          WOMEN  ...  give carbs forget deodorant take introvert new...\n",
              "7297          WOMEN  ...    take bra skittle fall remember time eat skittle\n",
              "7320        PARENTS  ...                     buy bulk avoid Chuck E. Cheese\n",
              "7748        PARENTS  ...                             swear jar bomb cyclone\n",
              "7773          WOMEN  ...  get extra minute resistance training try sport...\n",
              "8270          WOMEN  ...                                            welcome\n",
              "8271        PARENTS  ...                                           snow day\n",
              "\n",
              "[47 rows x 4 columns]"
            ]
          },
          "metadata": {
            "tags": []
          },
          "execution_count": 212
        }
      ]
    },
    {
      "cell_type": "markdown",
      "metadata": {
        "id": "W0I4Yp6h0478"
      },
      "source": [
        "It doesn't appear any of the most frequent \"headlines\" appear across categories."
      ]
    },
    {
      "cell_type": "markdown",
      "metadata": {
        "id": "xByusI4w1EUu"
      },
      "source": [
        "---\r\n",
        "---\r\n",
        "\r\n",
        "**Modeling**\r\n",
        "\r\n",
        "---\r\n",
        "---"
      ]
    },
    {
      "cell_type": "markdown",
      "metadata": {
        "id": "u5kDWaOVxcEy"
      },
      "source": [
        "I'm going to run through all techniques starting with headlines, then will do the same for the short descriptions.  I'll only be running Logistic Regression models, as the small size of my dataset seems to suggest the quicker speed and better handling of overfitting diminish possible small advantages gained by using other classification models."
      ]
    },
    {
      "cell_type": "markdown",
      "metadata": {
        "id": "h7Dcwokm-JFl"
      },
      "source": [
        "---\r\n",
        "\r\n",
        "**Headlines**\r\n",
        "\r\n",
        "---"
      ]
    },
    {
      "cell_type": "markdown",
      "metadata": {
        "id": "bw34EaxGxjsr"
      },
      "source": [
        "Bag of Words\r\n",
        "\r\n",
        "---"
      ]
    },
    {
      "cell_type": "code",
      "metadata": {
        "id": "AeUWNSh7lB3o",
        "colab": {
          "base_uri": "https://localhost:8080/",
          "height": 206
        },
        "outputId": "56e83f5d-8831-48ff-aee4-432be9bde629"
      },
      "source": [
        "# Ngrams of 1 for headlines\r\n",
        "vectorizer = CountVectorizer(analyzer='word')\r\n",
        "X = vectorizer.fit_transform(huffpo_df[\"clean_headline\"])\r\n",
        "bow_df = pd.DataFrame(X.toarray(), columns=vectorizer.get_feature_names())\r\n",
        "headlines_ngram1 = pd.concat([bow_df, huffpo_df[[\"clean_headline\", \"category\"]]], axis=1)\r\n",
        "\r\n",
        "\r\n",
        "headlines_ngram1.head(2)"
      ],
      "execution_count": 13,
      "outputs": [
        {
          "output_type": "execute_result",
          "data": {
            "text/html": [
              "<div>\n",
              "<style scoped>\n",
              "    .dataframe tbody tr th:only-of-type {\n",
              "        vertical-align: middle;\n",
              "    }\n",
              "\n",
              "    .dataframe tbody tr th {\n",
              "        vertical-align: top;\n",
              "    }\n",
              "\n",
              "    .dataframe thead th {\n",
              "        text-align: right;\n",
              "    }\n",
              "</style>\n",
              "<table border=\"1\" class=\"dataframe\">\n",
              "  <thead>\n",
              "    <tr style=\"text-align: right;\">\n",
              "      <th></th>\n",
              "      <th>10th</th>\n",
              "      <th>11th</th>\n",
              "      <th>15s</th>\n",
              "      <th>18th</th>\n",
              "      <th>1970</th>\n",
              "      <th>1980</th>\n",
              "      <th>19th</th>\n",
              "      <th>1st</th>\n",
              "      <th>200</th>\n",
              "      <th>20th</th>\n",
              "      <th>21st</th>\n",
              "      <th>25th</th>\n",
              "      <th>2nd</th>\n",
              "      <th>30th</th>\n",
              "      <th>36dd</th>\n",
              "      <th>3rd</th>\n",
              "      <th>4th</th>\n",
              "      <th>52</th>\n",
              "      <th>5th</th>\n",
              "      <th>64</th>\n",
              "      <th>6th</th>\n",
              "      <th>76ers</th>\n",
              "      <th>80</th>\n",
              "      <th>90</th>\n",
              "      <th>90s</th>\n",
              "      <th>90th</th>\n",
              "      <th>aaaaaah</th>\n",
              "      <th>aaliyah</th>\n",
              "      <th>aaron</th>\n",
              "      <th>abandon</th>\n",
              "      <th>abandoned</th>\n",
              "      <th>abba</th>\n",
              "      <th>abbi</th>\n",
              "      <th>abbott</th>\n",
              "      <th>abby</th>\n",
              "      <th>abc</th>\n",
              "      <th>abducted</th>\n",
              "      <th>abide</th>\n",
              "      <th>ability</th>\n",
              "      <th>able</th>\n",
              "      <th>...</th>\n",
              "      <th>youtube</th>\n",
              "      <th>youtuber</th>\n",
              "      <th>yuhua</th>\n",
              "      <th>yup</th>\n",
              "      <th>yura</th>\n",
              "      <th>yuzuru</th>\n",
              "      <th>yvette</th>\n",
              "      <th>yvonne</th>\n",
              "      <th>zach</th>\n",
              "      <th>zachary</th>\n",
              "      <th>zagitova</th>\n",
              "      <th>zahara</th>\n",
              "      <th>zainab</th>\n",
              "      <th>zandy</th>\n",
              "      <th>zayn</th>\n",
              "      <th>zealand</th>\n",
              "      <th>zellweger</th>\n",
              "      <th>zendaya</th>\n",
              "      <th>zero</th>\n",
              "      <th>zeroes</th>\n",
              "      <th>zeta</th>\n",
              "      <th>zika</th>\n",
              "      <th>zimmerman</th>\n",
              "      <th>zing</th>\n",
              "      <th>zinger</th>\n",
              "      <th>zinging</th>\n",
              "      <th>zings</th>\n",
              "      <th>zinke</th>\n",
              "      <th>zip</th>\n",
              "      <th>zipper</th>\n",
              "      <th>zodiac</th>\n",
              "      <th>zombie</th>\n",
              "      <th>zone</th>\n",
              "      <th>zoo</th>\n",
              "      <th>zoolander</th>\n",
              "      <th>zuckerberg</th>\n",
              "      <th>zuma</th>\n",
              "      <th>zylka</th>\n",
              "      <th>clean_headline</th>\n",
              "      <th>category</th>\n",
              "    </tr>\n",
              "  </thead>\n",
              "  <tbody>\n",
              "    <tr>\n",
              "      <th>0</th>\n",
              "      <td>0</td>\n",
              "      <td>0</td>\n",
              "      <td>0</td>\n",
              "      <td>0</td>\n",
              "      <td>0</td>\n",
              "      <td>0</td>\n",
              "      <td>0</td>\n",
              "      <td>0</td>\n",
              "      <td>0</td>\n",
              "      <td>0</td>\n",
              "      <td>0</td>\n",
              "      <td>0</td>\n",
              "      <td>0</td>\n",
              "      <td>0</td>\n",
              "      <td>0</td>\n",
              "      <td>0</td>\n",
              "      <td>0</td>\n",
              "      <td>0</td>\n",
              "      <td>0</td>\n",
              "      <td>0</td>\n",
              "      <td>0</td>\n",
              "      <td>0</td>\n",
              "      <td>0</td>\n",
              "      <td>0</td>\n",
              "      <td>0</td>\n",
              "      <td>0</td>\n",
              "      <td>0</td>\n",
              "      <td>0</td>\n",
              "      <td>0</td>\n",
              "      <td>0</td>\n",
              "      <td>0</td>\n",
              "      <td>0</td>\n",
              "      <td>0</td>\n",
              "      <td>0</td>\n",
              "      <td>0</td>\n",
              "      <td>0</td>\n",
              "      <td>0</td>\n",
              "      <td>0</td>\n",
              "      <td>0</td>\n",
              "      <td>0</td>\n",
              "      <td>...</td>\n",
              "      <td>0</td>\n",
              "      <td>0</td>\n",
              "      <td>0</td>\n",
              "      <td>0</td>\n",
              "      <td>0</td>\n",
              "      <td>0</td>\n",
              "      <td>0</td>\n",
              "      <td>0</td>\n",
              "      <td>0</td>\n",
              "      <td>0</td>\n",
              "      <td>0</td>\n",
              "      <td>0</td>\n",
              "      <td>0</td>\n",
              "      <td>0</td>\n",
              "      <td>0</td>\n",
              "      <td>0</td>\n",
              "      <td>0</td>\n",
              "      <td>0</td>\n",
              "      <td>0</td>\n",
              "      <td>0</td>\n",
              "      <td>0</td>\n",
              "      <td>0</td>\n",
              "      <td>0</td>\n",
              "      <td>0</td>\n",
              "      <td>0</td>\n",
              "      <td>0</td>\n",
              "      <td>0</td>\n",
              "      <td>0</td>\n",
              "      <td>0</td>\n",
              "      <td>0</td>\n",
              "      <td>0</td>\n",
              "      <td>0</td>\n",
              "      <td>0</td>\n",
              "      <td>0</td>\n",
              "      <td>0</td>\n",
              "      <td>0</td>\n",
              "      <td>0</td>\n",
              "      <td>0</td>\n",
              "      <td>Mass shooting Texas Week tv</td>\n",
              "      <td>CRIME</td>\n",
              "    </tr>\n",
              "    <tr>\n",
              "      <th>1</th>\n",
              "      <td>0</td>\n",
              "      <td>0</td>\n",
              "      <td>0</td>\n",
              "      <td>0</td>\n",
              "      <td>0</td>\n",
              "      <td>0</td>\n",
              "      <td>0</td>\n",
              "      <td>0</td>\n",
              "      <td>0</td>\n",
              "      <td>0</td>\n",
              "      <td>0</td>\n",
              "      <td>0</td>\n",
              "      <td>0</td>\n",
              "      <td>0</td>\n",
              "      <td>0</td>\n",
              "      <td>0</td>\n",
              "      <td>0</td>\n",
              "      <td>0</td>\n",
              "      <td>0</td>\n",
              "      <td>0</td>\n",
              "      <td>0</td>\n",
              "      <td>0</td>\n",
              "      <td>0</td>\n",
              "      <td>0</td>\n",
              "      <td>0</td>\n",
              "      <td>0</td>\n",
              "      <td>0</td>\n",
              "      <td>0</td>\n",
              "      <td>0</td>\n",
              "      <td>0</td>\n",
              "      <td>0</td>\n",
              "      <td>0</td>\n",
              "      <td>0</td>\n",
              "      <td>0</td>\n",
              "      <td>0</td>\n",
              "      <td>0</td>\n",
              "      <td>0</td>\n",
              "      <td>0</td>\n",
              "      <td>0</td>\n",
              "      <td>0</td>\n",
              "      <td>...</td>\n",
              "      <td>0</td>\n",
              "      <td>0</td>\n",
              "      <td>0</td>\n",
              "      <td>0</td>\n",
              "      <td>0</td>\n",
              "      <td>0</td>\n",
              "      <td>0</td>\n",
              "      <td>0</td>\n",
              "      <td>0</td>\n",
              "      <td>0</td>\n",
              "      <td>0</td>\n",
              "      <td>0</td>\n",
              "      <td>0</td>\n",
              "      <td>0</td>\n",
              "      <td>0</td>\n",
              "      <td>0</td>\n",
              "      <td>0</td>\n",
              "      <td>0</td>\n",
              "      <td>0</td>\n",
              "      <td>0</td>\n",
              "      <td>0</td>\n",
              "      <td>0</td>\n",
              "      <td>0</td>\n",
              "      <td>0</td>\n",
              "      <td>0</td>\n",
              "      <td>0</td>\n",
              "      <td>0</td>\n",
              "      <td>0</td>\n",
              "      <td>0</td>\n",
              "      <td>0</td>\n",
              "      <td>0</td>\n",
              "      <td>0</td>\n",
              "      <td>0</td>\n",
              "      <td>0</td>\n",
              "      <td>0</td>\n",
              "      <td>0</td>\n",
              "      <td>0</td>\n",
              "      <td>0</td>\n",
              "      <td>Smith Joins Diplo Nicky Jam World Cup official...</td>\n",
              "      <td>ENTERTAINMENT</td>\n",
              "    </tr>\n",
              "  </tbody>\n",
              "</table>\n",
              "<p>2 rows × 10921 columns</p>\n",
              "</div>"
            ],
            "text/plain": [
              "   10th  11th  ...                                     clean_headline       category\n",
              "0     0     0  ...                        Mass shooting Texas Week tv          CRIME\n",
              "1     0     0  ...  Smith Joins Diplo Nicky Jam World Cup official...  ENTERTAINMENT\n",
              "\n",
              "[2 rows x 10921 columns]"
            ]
          },
          "metadata": {
            "tags": []
          },
          "execution_count": 13
        }
      ]
    },
    {
      "cell_type": "code",
      "metadata": {
        "id": "pW4N5Hcn9W_Z",
        "colab": {
          "base_uri": "https://localhost:8080/"
        },
        "outputId": "a2d52f1f-5aa2-40b6-e6e4-99f415e2a383"
      },
      "source": [
        "# Get scores for ngram=1 models\r\n",
        "X = np.array(headlines_ngram1.drop(['clean_headline','category'], 1))\r\n",
        "Y = headlines_ngram1['category'].iloc[:,1] # Need to specify because one of the words in the headlines is 'category'\r\n",
        "\r\n",
        "# Split the dataset into training and test sets\r\n",
        "X_train, X_test, y_train, y_test = train_test_split(X, Y, test_size=0.2, random_state=25)\r\n",
        "\r\n",
        "\r\n",
        "lr = LogisticRegression()\r\n",
        "lr.fit(X_train, y_train)\r\n",
        "\r\n",
        "print(\"-------------------Logistic Regression Scores:Ngrams 1----------------------\")\r\n",
        "print('Training set score:', lr.score(X_train, y_train))\r\n",
        "print('\\nTest set score:', lr.score(X_test, y_test))"
      ],
      "execution_count": 14,
      "outputs": [
        {
          "output_type": "stream",
          "text": [
            "/usr/local/lib/python3.7/dist-packages/sklearn/linear_model/_logistic.py:940: ConvergenceWarning: lbfgs failed to converge (status=1):\n",
            "STOP: TOTAL NO. of ITERATIONS REACHED LIMIT.\n",
            "\n",
            "Increase the number of iterations (max_iter) or scale the data as shown in:\n",
            "    https://scikit-learn.org/stable/modules/preprocessing.html\n",
            "Please also refer to the documentation for alternative solver options:\n",
            "    https://scikit-learn.org/stable/modules/linear_model.html#logistic-regression\n",
            "  extra_warning_msg=_LOGISTIC_SOLVER_CONVERGENCE_MSG)\n"
          ],
          "name": "stderr"
        },
        {
          "output_type": "stream",
          "text": [
            "-------------------Logistic Regression Scores:Ngrams 1----------------------\n",
            "Training set score: 0.9778619283425576\n",
            "\n",
            "Test set score: 0.6814210832847991\n"
          ],
          "name": "stdout"
        }
      ]
    },
    {
      "cell_type": "markdown",
      "metadata": {
        "id": "_FTfSOngF8mq"
      },
      "source": [
        "NOTE: I ran a model with Ngrams of 1&2 but the session repeatedly crashed my system.  However, I was able to get some reults, and the ngrams with range 1-2 performed the same with the logistic regression model and worse on the random forest one.  Given the nature of headlines, context likely doesn't matter as much as the actual words themselves, so limiting exploration to ngrams=1 makes sense moving forward."
      ]
    },
    {
      "cell_type": "markdown",
      "metadata": {
        "id": "YR1I5uFoI1pd"
      },
      "source": [
        "I'm also therefore going to not look at TF-ID vectors and continue on to apply word2vec"
      ]
    },
    {
      "cell_type": "markdown",
      "metadata": {
        "id": "bFU218HbCcK1"
      },
      "source": [
        "\r\n",
        "\r\n",
        "Word2vec\r\n",
        "\r\n",
        "---"
      ]
    },
    {
      "cell_type": "code",
      "metadata": {
        "id": "smylMule6wdK"
      },
      "source": [
        "# Get model for headlines using word2vec\r\n",
        "\r\n",
        "w2v = Word2Vec(huffpo_df[\"clean_headline\"],workers=4,min_count=1,window=6,\r\n",
        "               sg=1,#skipgram seems the better option due to limit of headline corpus\r\n",
        "               sample=1e-3,\r\n",
        "               size=26, #number of categories\r\n",
        "               hs=1)"
      ],
      "execution_count": 215,
      "outputs": []
    },
    {
      "cell_type": "code",
      "metadata": {
        "id": "WZj0NS58KIh3",
        "colab": {
          "base_uri": "https://localhost:8080/"
        },
        "outputId": "c2eb00cd-3ad4-405e-c465-99633ed68db1"
      },
      "source": [
        "word2vec_arr = np.zeros((huffpo_df.shape[0],26))\r\n",
        "\r\n",
        "for i, word in enumerate(huffpo_df[\"clean_headline\"]):\r\n",
        "    word2vec_arr[i,:] = np.mean([w2v[lemma] for lemma in word], axis=0)"
      ],
      "execution_count": 216,
      "outputs": [
        {
          "output_type": "stream",
          "text": [
            "/usr/local/lib/python3.7/dist-packages/ipykernel_launcher.py:4: DeprecationWarning: Call to deprecated `__getitem__` (Method will be removed in 4.0.0, use self.wv.__getitem__() instead).\n",
            "  after removing the cwd from sys.path.\n",
            "/usr/local/lib/python3.7/dist-packages/numpy/core/fromnumeric.py:3373: RuntimeWarning: Mean of empty slice.\n",
            "  out=out, **kwargs)\n",
            "/usr/local/lib/python3.7/dist-packages/numpy/core/_methods.py:170: RuntimeWarning: invalid value encountered in double_scalars\n",
            "  ret = ret.dtype.type(ret / rcount)\n"
          ],
          "name": "stderr"
        }
      ]
    },
    {
      "cell_type": "code",
      "metadata": {
        "id": "AZxmKYf_Km3u",
        "colab": {
          "base_uri": "https://localhost:8080/",
          "height": 223
        },
        "outputId": "90020887-c7c0-44f6-ba9b-45acd060c092"
      },
      "source": [
        "word2vec_arr = pd.DataFrame(word2vec_arr)\r\n",
        "headlines_w2v = pd.concat([huffpo_df[[\"category\", \"clean_headline\"]],word2vec_arr], axis=1)\r\n",
        "headlines_w2v.dropna(inplace=True)\r\n",
        "\r\n",
        "headlines_w2v.head(3)"
      ],
      "execution_count": 218,
      "outputs": [
        {
          "output_type": "execute_result",
          "data": {
            "text/html": [
              "<div>\n",
              "<style scoped>\n",
              "    .dataframe tbody tr th:only-of-type {\n",
              "        vertical-align: middle;\n",
              "    }\n",
              "\n",
              "    .dataframe tbody tr th {\n",
              "        vertical-align: top;\n",
              "    }\n",
              "\n",
              "    .dataframe thead th {\n",
              "        text-align: right;\n",
              "    }\n",
              "</style>\n",
              "<table border=\"1\" class=\"dataframe\">\n",
              "  <thead>\n",
              "    <tr style=\"text-align: right;\">\n",
              "      <th></th>\n",
              "      <th>category</th>\n",
              "      <th>clean_headline</th>\n",
              "      <th>0</th>\n",
              "      <th>1</th>\n",
              "      <th>2</th>\n",
              "      <th>3</th>\n",
              "      <th>4</th>\n",
              "      <th>5</th>\n",
              "      <th>6</th>\n",
              "      <th>7</th>\n",
              "      <th>8</th>\n",
              "      <th>9</th>\n",
              "      <th>10</th>\n",
              "      <th>11</th>\n",
              "      <th>12</th>\n",
              "      <th>13</th>\n",
              "      <th>14</th>\n",
              "      <th>15</th>\n",
              "      <th>16</th>\n",
              "      <th>17</th>\n",
              "      <th>18</th>\n",
              "      <th>19</th>\n",
              "      <th>20</th>\n",
              "      <th>21</th>\n",
              "      <th>22</th>\n",
              "      <th>23</th>\n",
              "      <th>24</th>\n",
              "      <th>25</th>\n",
              "    </tr>\n",
              "  </thead>\n",
              "  <tbody>\n",
              "    <tr>\n",
              "      <th>0</th>\n",
              "      <td>CRIME</td>\n",
              "      <td>Mass shooting Texas Week tv</td>\n",
              "      <td>-0.435702</td>\n",
              "      <td>0.082939</td>\n",
              "      <td>0.088856</td>\n",
              "      <td>-0.053991</td>\n",
              "      <td>0.078527</td>\n",
              "      <td>0.224401</td>\n",
              "      <td>0.085873</td>\n",
              "      <td>-0.028490</td>\n",
              "      <td>-0.075190</td>\n",
              "      <td>-0.093647</td>\n",
              "      <td>-0.037417</td>\n",
              "      <td>-0.062236</td>\n",
              "      <td>-0.071631</td>\n",
              "      <td>-0.113745</td>\n",
              "      <td>-0.238836</td>\n",
              "      <td>0.030733</td>\n",
              "      <td>-0.076839</td>\n",
              "      <td>0.166964</td>\n",
              "      <td>0.160613</td>\n",
              "      <td>-0.259558</td>\n",
              "      <td>0.137662</td>\n",
              "      <td>0.238786</td>\n",
              "      <td>0.112150</td>\n",
              "      <td>0.143549</td>\n",
              "      <td>0.122927</td>\n",
              "      <td>-0.088095</td>\n",
              "    </tr>\n",
              "    <tr>\n",
              "      <th>1</th>\n",
              "      <td>ENTERTAINMENT</td>\n",
              "      <td>Smith Joins Diplo Nicky Jam World Cup official...</td>\n",
              "      <td>-0.454964</td>\n",
              "      <td>0.063510</td>\n",
              "      <td>0.141915</td>\n",
              "      <td>-0.048144</td>\n",
              "      <td>0.044924</td>\n",
              "      <td>0.233424</td>\n",
              "      <td>0.060597</td>\n",
              "      <td>-0.039479</td>\n",
              "      <td>-0.081595</td>\n",
              "      <td>-0.111205</td>\n",
              "      <td>-0.069657</td>\n",
              "      <td>-0.071059</td>\n",
              "      <td>-0.113057</td>\n",
              "      <td>-0.111739</td>\n",
              "      <td>-0.219334</td>\n",
              "      <td>0.011336</td>\n",
              "      <td>-0.082232</td>\n",
              "      <td>0.160920</td>\n",
              "      <td>0.143553</td>\n",
              "      <td>-0.250389</td>\n",
              "      <td>0.140945</td>\n",
              "      <td>0.206918</td>\n",
              "      <td>0.096558</td>\n",
              "      <td>0.093758</td>\n",
              "      <td>0.172588</td>\n",
              "      <td>-0.055896</td>\n",
              "    </tr>\n",
              "    <tr>\n",
              "      <th>2</th>\n",
              "      <td>ENTERTAINMENT</td>\n",
              "      <td>Hugh Grant marrie Time Age</td>\n",
              "      <td>-0.441721</td>\n",
              "      <td>0.041422</td>\n",
              "      <td>0.164913</td>\n",
              "      <td>-0.083335</td>\n",
              "      <td>0.040049</td>\n",
              "      <td>0.203443</td>\n",
              "      <td>0.087366</td>\n",
              "      <td>-0.056176</td>\n",
              "      <td>-0.059446</td>\n",
              "      <td>-0.110502</td>\n",
              "      <td>-0.058293</td>\n",
              "      <td>-0.069654</td>\n",
              "      <td>-0.114200</td>\n",
              "      <td>-0.095468</td>\n",
              "      <td>-0.204690</td>\n",
              "      <td>0.009201</td>\n",
              "      <td>-0.058444</td>\n",
              "      <td>0.213637</td>\n",
              "      <td>0.170983</td>\n",
              "      <td>-0.245015</td>\n",
              "      <td>0.161651</td>\n",
              "      <td>0.197036</td>\n",
              "      <td>0.136984</td>\n",
              "      <td>0.120948</td>\n",
              "      <td>0.129538</td>\n",
              "      <td>-0.075929</td>\n",
              "    </tr>\n",
              "  </tbody>\n",
              "</table>\n",
              "</div>"
            ],
            "text/plain": [
              "        category  ...        25\n",
              "0          CRIME  ... -0.088095\n",
              "1  ENTERTAINMENT  ... -0.055896\n",
              "2  ENTERTAINMENT  ... -0.075929\n",
              "\n",
              "[3 rows x 28 columns]"
            ]
          },
          "metadata": {
            "tags": []
          },
          "execution_count": 218
        }
      ]
    },
    {
      "cell_type": "code",
      "metadata": {
        "id": "qAajXv4aGxtR",
        "colab": {
          "base_uri": "https://localhost:8080/"
        },
        "outputId": "d86fd436-3f6f-4892-a8dc-a1b4efead66f"
      },
      "source": [
        "# Get scores for word2vec model\r\n",
        "X = np.array(headlines_w2v.drop(['clean_headline','category'], 1))\r\n",
        "Y = headlines_w2v['category']\r\n",
        "\r\n",
        "# Split the dataset into training and test sets\r\n",
        "X_train, X_test, y_train, y_test = train_test_split(X, Y, test_size=0.2, random_state=25)\r\n",
        "\r\n",
        "# Models\r\n",
        "lr = LogisticRegression()\r\n",
        "rfc = RandomForestClassifier()\r\n",
        "\r\n",
        "lr.fit(X_train, y_train)\r\n",
        "rfc.fit(X_train, y_train)\r\n",
        "\r\n",
        "print(\"-------------------Logistic Regression Scores:Word2vec ----------------------\")\r\n",
        "print('Training set score:', lr.score(X_train, y_train))\r\n",
        "print('\\nTest set score:', lr.score(X_test, y_test))\r\n",
        "\r\n",
        "print(\"----------------------Random Forest Scores:Word2vec----------------------\")\r\n",
        "print('Training set score:', rfc.score(X_train, y_train))\r\n",
        "print('\\nTest set score:', rfc.score(X_test, y_test))"
      ],
      "execution_count": 219,
      "outputs": [
        {
          "output_type": "stream",
          "text": [
            "/usr/local/lib/python3.7/dist-packages/sklearn/linear_model/_logistic.py:940: ConvergenceWarning: lbfgs failed to converge (status=1):\n",
            "STOP: TOTAL NO. of ITERATIONS REACHED LIMIT.\n",
            "\n",
            "Increase the number of iterations (max_iter) or scale the data as shown in:\n",
            "    https://scikit-learn.org/stable/modules/preprocessing.html\n",
            "Please also refer to the documentation for alternative solver options:\n",
            "    https://scikit-learn.org/stable/modules/linear_model.html#logistic-regression\n",
            "  extra_warning_msg=_LOGISTIC_SOLVER_CONVERGENCE_MSG)\n"
          ],
          "name": "stderr"
        },
        {
          "output_type": "stream",
          "text": [
            "-------------------Logistic Regression Scores:Word2vec ----------------------\n",
            "Training set score: 0.37625637290604513\n",
            "\n",
            "Test set score: 0.38031450203843914\n",
            "----------------------Random Forest Scores:Word2vec----------------------\n",
            "Training set score: 1.0\n",
            "\n",
            "Test set score: 0.4280722189866045\n"
          ],
          "name": "stdout"
        }
      ]
    },
    {
      "cell_type": "markdown",
      "metadata": {
        "id": "YKpwXwf-L0Tn"
      },
      "source": [
        "The vectors perform worse than bag of words, likely due to not having enough examples to base vectors off of.  These scores would likely be better if I included additional years in the data.\r\n",
        "\r\n",
        " I'm guessing they'll perform better on the longer and more varied short descriptions.  For now, I'll consider my BoW model my best option when referencing just headlines."
      ]
    },
    {
      "cell_type": "markdown",
      "metadata": {
        "id": "uhsk52Gm-OBm"
      },
      "source": [
        "---\r\n",
        "**Short Descriptions**\r\n",
        "\r\n",
        "---"
      ]
    },
    {
      "cell_type": "markdown",
      "metadata": {
        "id": "b7w7CxueNF-6"
      },
      "source": [
        "Given the strenous computational power for BoW, I'm only going to use vector constructing methods for the short descriptions."
      ]
    },
    {
      "cell_type": "code",
      "metadata": {
        "id": "4GfyHt6ONW45"
      },
      "source": [
        "from sklearn.feature_extraction.text import TfidfVectorizer\r\n",
        "\r\n",
        "vectorizer = TfidfVectorizer(\r\n",
        "    max_df=0.5, min_df=2, use_idf=True, norm=u'l2', smooth_idf=True, ngram_range=(1,2))\r\n",
        "\r\n",
        "\r\n",
        "# Applying the vectorizer\r\n",
        "X = vectorizer.fit_transform(huffpo_df[\"clean_desc\"])\r\n",
        "\r\n",
        "tfidf_df = pd.DataFrame(X.toarray(), columns=vectorizer.get_feature_names())\r\n",
        "vectors = pd.concat([tfidf_df, huffpo_df[[\"clean_desc\", \"category\"]]], axis=1)"
      ],
      "execution_count": 220,
      "outputs": []
    },
    {
      "cell_type": "code",
      "metadata": {
        "id": "SiUzzR-HdyUH"
      },
      "source": [
        "# Get description based scores for tfid model\r\n",
        "X = np.array(vectors.drop(['clean_desc','category'], 1))\r\n",
        "Y = vectors['category'].iloc[:,1]\r\n",
        "\r\n",
        "# Split the dataset into training and test sets\r\n",
        "X_train, X_test, y_train, y_test = train_test_split(X, Y, test_size=0.2, random_state=25)"
      ],
      "execution_count": 221,
      "outputs": []
    },
    {
      "cell_type": "code",
      "metadata": {
        "id": "0tWVoNsOOMfo",
        "colab": {
          "base_uri": "https://localhost:8080/"
        },
        "outputId": "16a37598-b81a-408c-f07b-8a9c79ec10a7"
      },
      "source": [
        "# Models\r\n",
        "lr = LogisticRegression()\r\n",
        "rfc = RandomForestClassifier()\r\n",
        "\r\n",
        "lr.fit(X_train, y_train)\r\n",
        "rfc.fit(X_train, y_train)\r\n",
        "\r\n",
        "print(\"-------------------Logistic Regression Scores: TFID ----------------------\")\r\n",
        "print('Training set score:', lr.score(X_train, y_train))\r\n",
        "print('\\nTest set score:', lr.score(X_test, y_test))\r\n",
        "\r\n",
        "print(\"----------------------Random Forest Scores: TFID ----------------------\")\r\n",
        "print('Training set score:', rfc.score(X_train, y_train))\r\n",
        "print('\\nTest set score:', rfc.score(X_test, y_test))"
      ],
      "execution_count": 222,
      "outputs": [
        {
          "output_type": "stream",
          "text": [
            "/usr/local/lib/python3.7/dist-packages/sklearn/linear_model/_logistic.py:940: ConvergenceWarning: lbfgs failed to converge (status=1):\n",
            "STOP: TOTAL NO. of ITERATIONS REACHED LIMIT.\n",
            "\n",
            "Increase the number of iterations (max_iter) or scale the data as shown in:\n",
            "    https://scikit-learn.org/stable/modules/preprocessing.html\n",
            "Please also refer to the documentation for alternative solver options:\n",
            "    https://scikit-learn.org/stable/modules/linear_model.html#logistic-regression\n",
            "  extra_warning_msg=_LOGISTIC_SOLVER_CONVERGENCE_MSG)\n"
          ],
          "name": "stderr"
        },
        {
          "output_type": "stream",
          "text": [
            "-------------------Logistic Regression Scores: TFID ----------------------\n",
            "Training set score: 0.6168074570346636\n",
            "\n",
            "Test set score: 0.49912638322655795\n",
            "----------------------Random Forest Scores: TFID ----------------------\n",
            "Training set score: 0.9861637052140985\n",
            "\n",
            "Test set score: 0.5084449621432732\n"
          ],
          "name": "stdout"
        }
      ]
    },
    {
      "cell_type": "markdown",
      "metadata": {
        "id": "Ix_MWZiyPunz"
      },
      "source": [
        "These scores don't match with the original BoW model while using headlines.  I'm going to try word2vec with short descriptions as a final comparison point."
      ]
    },
    {
      "cell_type": "code",
      "metadata": {
        "id": "JtR6xRbYPsfe"
      },
      "source": [
        "# Get model for headlines using word2vec\r\n",
        "\r\n",
        "w2v_desc = Word2Vec(huffpo_df[\"clean_desc\"],workers=4,min_count=1,window=6,\r\n",
        "               sg=0,#Continuous bag of words seems a better option given variation within a description\r\n",
        "               sample=1e-3,\r\n",
        "               size=26, #number of categories\r\n",
        "               hs=1)"
      ],
      "execution_count": 223,
      "outputs": []
    },
    {
      "cell_type": "code",
      "metadata": {
        "id": "XNdo-5ZJPsfv",
        "colab": {
          "base_uri": "https://localhost:8080/"
        },
        "outputId": "aced9f6a-791e-4ef6-e9e6-50bae6ede951"
      },
      "source": [
        "word2vec_arr_desc = np.zeros((huffpo_df.shape[0],26))\r\n",
        "\r\n",
        "for i, word in enumerate(huffpo_df[\"clean_desc\"]):\r\n",
        "    word2vec_arr_desc[i,:] = np.mean([w2v_desc[lemma] for lemma in word], axis=0)"
      ],
      "execution_count": 224,
      "outputs": [
        {
          "output_type": "stream",
          "text": [
            "/usr/local/lib/python3.7/dist-packages/ipykernel_launcher.py:4: DeprecationWarning: Call to deprecated `__getitem__` (Method will be removed in 4.0.0, use self.wv.__getitem__() instead).\n",
            "  after removing the cwd from sys.path.\n",
            "/usr/local/lib/python3.7/dist-packages/numpy/core/fromnumeric.py:3373: RuntimeWarning: Mean of empty slice.\n",
            "  out=out, **kwargs)\n",
            "/usr/local/lib/python3.7/dist-packages/numpy/core/_methods.py:170: RuntimeWarning: invalid value encountered in double_scalars\n",
            "  ret = ret.dtype.type(ret / rcount)\n"
          ],
          "name": "stderr"
        }
      ]
    },
    {
      "cell_type": "code",
      "metadata": {
        "id": "p3MHouGgPsfw",
        "colab": {
          "base_uri": "https://localhost:8080/",
          "height": 290
        },
        "outputId": "e9d738a1-9164-41ea-cfe2-09f71c8a417c"
      },
      "source": [
        "word2vec_arr_desc = pd.DataFrame(word2vec_arr_desc)\r\n",
        "headlines_w2v_desc = pd.concat([huffpo_df[[\"category\", \"clean_desc\"]],word2vec_arr_desc], axis=1)\r\n",
        "headlines_w2v_desc.dropna(inplace=True)\r\n",
        "\r\n",
        "headlines_w2v_desc.head(3)"
      ],
      "execution_count": 225,
      "outputs": [
        {
          "output_type": "execute_result",
          "data": {
            "text/html": [
              "<div>\n",
              "<style scoped>\n",
              "    .dataframe tbody tr th:only-of-type {\n",
              "        vertical-align: middle;\n",
              "    }\n",
              "\n",
              "    .dataframe tbody tr th {\n",
              "        vertical-align: top;\n",
              "    }\n",
              "\n",
              "    .dataframe thead th {\n",
              "        text-align: right;\n",
              "    }\n",
              "</style>\n",
              "<table border=\"1\" class=\"dataframe\">\n",
              "  <thead>\n",
              "    <tr style=\"text-align: right;\">\n",
              "      <th></th>\n",
              "      <th>category</th>\n",
              "      <th>clean_desc</th>\n",
              "      <th>0</th>\n",
              "      <th>1</th>\n",
              "      <th>2</th>\n",
              "      <th>3</th>\n",
              "      <th>4</th>\n",
              "      <th>5</th>\n",
              "      <th>6</th>\n",
              "      <th>7</th>\n",
              "      <th>8</th>\n",
              "      <th>9</th>\n",
              "      <th>10</th>\n",
              "      <th>11</th>\n",
              "      <th>12</th>\n",
              "      <th>13</th>\n",
              "      <th>14</th>\n",
              "      <th>15</th>\n",
              "      <th>16</th>\n",
              "      <th>17</th>\n",
              "      <th>18</th>\n",
              "      <th>19</th>\n",
              "      <th>20</th>\n",
              "      <th>21</th>\n",
              "      <th>22</th>\n",
              "      <th>23</th>\n",
              "      <th>24</th>\n",
              "      <th>25</th>\n",
              "    </tr>\n",
              "  </thead>\n",
              "  <tbody>\n",
              "    <tr>\n",
              "      <th>0</th>\n",
              "      <td>CRIME</td>\n",
              "      <td>leave husband kill child day America</td>\n",
              "      <td>0.075703</td>\n",
              "      <td>0.008978</td>\n",
              "      <td>-0.387221</td>\n",
              "      <td>0.043541</td>\n",
              "      <td>0.104583</td>\n",
              "      <td>-0.347720</td>\n",
              "      <td>0.562684</td>\n",
              "      <td>-0.144071</td>\n",
              "      <td>0.265154</td>\n",
              "      <td>0.250301</td>\n",
              "      <td>0.147947</td>\n",
              "      <td>0.253235</td>\n",
              "      <td>0.355037</td>\n",
              "      <td>-0.042853</td>\n",
              "      <td>-0.093137</td>\n",
              "      <td>-0.107737</td>\n",
              "      <td>-0.019276</td>\n",
              "      <td>0.092390</td>\n",
              "      <td>0.093295</td>\n",
              "      <td>-0.161621</td>\n",
              "      <td>0.181127</td>\n",
              "      <td>0.164690</td>\n",
              "      <td>-0.093613</td>\n",
              "      <td>-0.127535</td>\n",
              "      <td>0.040663</td>\n",
              "      <td>-0.205919</td>\n",
              "    </tr>\n",
              "    <tr>\n",
              "      <th>1</th>\n",
              "      <td>ENTERTAINMENT</td>\n",
              "      <td>course song</td>\n",
              "      <td>0.138617</td>\n",
              "      <td>0.156752</td>\n",
              "      <td>-0.523052</td>\n",
              "      <td>-0.076049</td>\n",
              "      <td>0.017370</td>\n",
              "      <td>-0.411633</td>\n",
              "      <td>0.628968</td>\n",
              "      <td>-0.227826</td>\n",
              "      <td>0.189320</td>\n",
              "      <td>0.126052</td>\n",
              "      <td>0.083032</td>\n",
              "      <td>0.171308</td>\n",
              "      <td>0.607713</td>\n",
              "      <td>0.033907</td>\n",
              "      <td>-0.072192</td>\n",
              "      <td>-0.328134</td>\n",
              "      <td>0.070574</td>\n",
              "      <td>0.024360</td>\n",
              "      <td>0.253910</td>\n",
              "      <td>0.013560</td>\n",
              "      <td>0.328373</td>\n",
              "      <td>0.212633</td>\n",
              "      <td>-0.042429</td>\n",
              "      <td>-0.162866</td>\n",
              "      <td>0.129377</td>\n",
              "      <td>-0.245673</td>\n",
              "    </tr>\n",
              "    <tr>\n",
              "      <th>2</th>\n",
              "      <td>ENTERTAINMENT</td>\n",
              "      <td>actor longtime girlfriend Anna Eberstein tie k...</td>\n",
              "      <td>0.046199</td>\n",
              "      <td>-0.041275</td>\n",
              "      <td>-0.440512</td>\n",
              "      <td>0.047896</td>\n",
              "      <td>0.007142</td>\n",
              "      <td>-0.379645</td>\n",
              "      <td>0.648960</td>\n",
              "      <td>-0.170527</td>\n",
              "      <td>0.258837</td>\n",
              "      <td>0.226288</td>\n",
              "      <td>0.098079</td>\n",
              "      <td>0.198751</td>\n",
              "      <td>0.463701</td>\n",
              "      <td>-0.112397</td>\n",
              "      <td>-0.091278</td>\n",
              "      <td>-0.206523</td>\n",
              "      <td>-0.023768</td>\n",
              "      <td>0.123109</td>\n",
              "      <td>0.134076</td>\n",
              "      <td>-0.078815</td>\n",
              "      <td>0.184801</td>\n",
              "      <td>0.060262</td>\n",
              "      <td>-0.120159</td>\n",
              "      <td>-0.106410</td>\n",
              "      <td>-0.039816</td>\n",
              "      <td>-0.210484</td>\n",
              "    </tr>\n",
              "  </tbody>\n",
              "</table>\n",
              "</div>"
            ],
            "text/plain": [
              "        category  ...        25\n",
              "0          CRIME  ... -0.205919\n",
              "1  ENTERTAINMENT  ... -0.245673\n",
              "2  ENTERTAINMENT  ... -0.210484\n",
              "\n",
              "[3 rows x 28 columns]"
            ]
          },
          "metadata": {
            "tags": []
          },
          "execution_count": 225
        }
      ]
    },
    {
      "cell_type": "code",
      "metadata": {
        "id": "OQnH41XqPsfx",
        "colab": {
          "base_uri": "https://localhost:8080/"
        },
        "outputId": "93f2db4b-e528-43a4-bbc4-118144169e5c"
      },
      "source": [
        "# Get scores for word2vec model\r\n",
        "X = np.array(headlines_w2v_desc.drop(['clean_desc','category'], 1))\r\n",
        "Y = headlines_w2v_desc['category']\r\n",
        "\r\n",
        "# Split the dataset into training and test sets\r\n",
        "X_train, X_test, y_train, y_test = train_test_split(X, Y, test_size=0.2, random_state=25)\r\n",
        "\r\n",
        "# Models\r\n",
        "lr = LogisticRegression()\r\n",
        "rfc = RandomForestClassifier()\r\n",
        "\r\n",
        "lr.fit(X_train, y_train)\r\n",
        "rfc.fit(X_train, y_train)\r\n",
        "\r\n",
        "print(\"-------------------Logistic Regression Scores:Word2vec ----------------------\")\r\n",
        "print('Training set score:', lr.score(X_train, y_train))\r\n",
        "print('\\nTest set score:', lr.score(X_test, y_test))\r\n",
        "\r\n",
        "print(\"----------------------Random Forest Scores:Word2vec----------------------\")\r\n",
        "print('Training set score:', rfc.score(X_train, y_train))\r\n",
        "print('\\nTest set score:', rfc.score(X_test, y_test))"
      ],
      "execution_count": 226,
      "outputs": [
        {
          "output_type": "stream",
          "text": [
            "/usr/local/lib/python3.7/dist-packages/sklearn/linear_model/_logistic.py:940: ConvergenceWarning: lbfgs failed to converge (status=1):\n",
            "STOP: TOTAL NO. of ITERATIONS REACHED LIMIT.\n",
            "\n",
            "Increase the number of iterations (max_iter) or scale the data as shown in:\n",
            "    https://scikit-learn.org/stable/modules/preprocessing.html\n",
            "Please also refer to the documentation for alternative solver options:\n",
            "    https://scikit-learn.org/stable/modules/linear_model.html#logistic-regression\n",
            "  extra_warning_msg=_LOGISTIC_SOLVER_CONVERGENCE_MSG)\n"
          ],
          "name": "stderr"
        },
        {
          "output_type": "stream",
          "text": [
            "-------------------Logistic Regression Scores:Word2vec ----------------------\n",
            "Training set score: 0.3736842105263158\n",
            "\n",
            "Test set score: 0.3719298245614035\n",
            "----------------------Random Forest Scores:Word2vec----------------------\n",
            "Training set score: 0.9960526315789474\n",
            "\n",
            "Test set score: 0.38596491228070173\n"
          ],
          "name": "stdout"
        }
      ]
    },
    {
      "cell_type": "markdown",
      "metadata": {
        "id": "YEmw34yNQmoZ"
      },
      "source": [
        "These did even worse than the word2vec model using only headlines!\r\n",
        "\r\n",
        "The BoW model produced the highest training and test scores, so I'm going to tune it in a few passes.  I'm going to focus one pass by adjusting the inverse regularization and tolerance "
      ]
    },
    {
      "cell_type": "code",
      "metadata": {
        "id": "M3F9pvWf11EQ"
      },
      "source": [
        "# Bag_of_Words: 1st pass\r\n",
        "X = np.array(headlines_ngram1.drop(['clean_headline','category'], 1))\r\n",
        "Y = headlines_ngram1['category'].iloc[:,1] # Need to specify because one of the words in the headlines is 'category'\r\n",
        "\r\n",
        "# Split the dataset into training and test sets\r\n",
        "X_train, X_test, y_train, y_test = train_test_split(X, Y, test_size=0.2, random_state=25)\r\n",
        "\r\n",
        "\r\n",
        "parameters = {'C': [0.001, 0.1, 1,],\r\n",
        "              'tol':[.0001,.001,.01]\r\n",
        "              }\r\n",
        "\r\n",
        "lr = LogisticRegression()\r\n",
        "lr_tuned = GridSearchCV(lr, parameters, cv=3)\r\n",
        "lr_tuned.fit(X_train, y_train)"
      ],
      "execution_count": null,
      "outputs": []
    },
    {
      "cell_type": "code",
      "metadata": {
        "colab": {
          "base_uri": "https://localhost:8080/"
        },
        "id": "-FjHW1zgUN4z",
        "outputId": "b97dfc95-0d6f-438f-a9ff-8337c3c3282f"
      },
      "source": [
        "print(\"-------------------Logistic Regression Scores:TUNED Ngrams 1----------------------\")\r\n",
        "print('Training set score:', lr_tuned.score(X_train, y_train))\r\n",
        "print('Test set score:', lr_tuned.score(X_test, y_test))\r\n",
        "print(\"Best parameters:{}\".format(lr_tuned.best_params_))"
      ],
      "execution_count": 14,
      "outputs": [
        {
          "output_type": "stream",
          "text": [
            "-------------------Logistic Regression Scores:TUNED Ngrams 1----------------------\n",
            "Training set score: 0.9778619283425576\n",
            "Test set score: 0.6814210832847991\n",
            "Best parameters:{'C': 1, 'tol': 0.0001}\n"
          ],
          "name": "stdout"
        }
      ]
    },
    {
      "cell_type": "markdown",
      "metadata": {
        "id": "ucNX6Y9mQo7i"
      },
      "source": [
        "Default parameters provide the best scores, so I won't change them"
      ]
    },
    {
      "cell_type": "markdown",
      "metadata": {
        "id": "-jis-m3oJ0R1"
      },
      "source": [
        "I also want to see if this model improves by removing the error penalty; I haven't seen this applied yet with text data"
      ]
    },
    {
      "cell_type": "code",
      "metadata": {
        "colab": {
          "base_uri": "https://localhost:8080/"
        },
        "id": "3zXNcCXVYxsm",
        "outputId": "9ed6816e-6f6e-42cc-b794-5571fb7e9f53"
      },
      "source": [
        "lr_none = LogisticRegression(penalty='none')\r\n",
        "lr_none.fit(X_train,y_train)\r\n",
        "\r\n",
        "print(\"-------------------Logistic Regression Scores:NO regularization penalty----------------------\")\r\n",
        "print('Training set score:', lr_none.score(X_train, y_train))\r\n",
        "print('Test set score:', lr_none.score(X_test, y_test))"
      ],
      "execution_count": 15,
      "outputs": [
        {
          "output_type": "stream",
          "text": [
            "-------------------Logistic Regression Scores:NO regularization penalty----------------------\n",
            "Training set score: 1.0\n",
            "Test set score: 0.6703552708211997\n"
          ],
          "name": "stdout"
        }
      ]
    },
    {
      "cell_type": "markdown",
      "metadata": {
        "id": "hDjbB5qQZoFD"
      },
      "source": [
        "Definite (and unsurprising) result of overfitting"
      ]
    },
    {
      "cell_type": "markdown",
      "metadata": {
        "id": "ZrQ6t9MKQtQ2"
      },
      "source": [
        "**Conclusions**\r\n",
        "\r\n",
        "---"
      ]
    },
    {
      "cell_type": "markdown",
      "metadata": {
        "id": "ENRQ0Y2BRQku"
      },
      "source": [
        "My Bag of Words model was able to correctly classify the articles 68% of the time with a Logistic Regression classification method.  In terms of prep needed to get to this point, this is a pretty strong start for further refining.\r\n",
        "\r\n",
        "Given the limited space in which to quickly express thoughts, headlines seem like they are a better reference for classifying an article compared to a short description, which has allowance to deviate in tone and be more nuanced. \r\n",
        "\r\n",
        "I believe including additional years worth of data would improve the accuracy, along with creating varying models for different months to account for possible biases from imbalances, as seen during data exploration.  Giving different weights to different authors may also lead to some additional insight, as personal writing style could translate to how headlines are crafted (though on the other hand these are likely all approved by a small team of editors, therby eliminating personal voice)."
      ]
    }
  ]
}